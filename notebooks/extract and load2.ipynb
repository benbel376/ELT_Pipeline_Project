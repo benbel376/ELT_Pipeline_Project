{
 "cells": [
  {
   "cell_type": "code",
   "execution_count": 6,
   "metadata": {},
   "outputs": [],
   "source": [
    "import os\n",
    "import sys\n",
    "import pandas as pd"
   ]
  },
  {
   "cell_type": "code",
   "execution_count": 5,
   "metadata": {},
   "outputs": [],
   "source": [
    "# loading scripts\n",
    "\n",
    "sys.path.append(os.path.abspath(\"../scripts/python/\"))\n",
    "from load_csv import WarehouseAdmin"
   ]
  },
  {
   "cell_type": "code",
   "execution_count": 11,
   "metadata": {},
   "outputs": [],
   "source": [
    "wha = WarehouseAdmin()"
   ]
  },
  {
   "cell_type": "code",
   "execution_count": null,
   "metadata": {},
   "outputs": [],
   "source": [
    "wha.connect_to_server(\"localhost\", \"root\", \"biniyam\")"
   ]
  },
  {
   "cell_type": "code",
   "execution_count": 7,
   "metadata": {},
   "outputs": [],
   "source": [
    "data = pd.read_csv(\"../data/sample.csv\")"
   ]
  },
  {
   "cell_type": "code",
   "execution_count": 8,
   "metadata": {},
   "outputs": [
    {
     "data": {
      "text/plain": [
       "['track_id', 'types', 'traveled_d', 'avg_speed', 'trajectory']"
      ]
     },
     "execution_count": 8,
     "metadata": {},
     "output_type": "execute_result"
    }
   ],
   "source": [
    "columns = data.columns[0].split(\";\")[:4]\n",
    "columns.append(\"trajectory\")\n",
    "columns[1] = \"types\"\n",
    "for i in range(len(columns)):\n",
    "    columns[i] = columns[i].strip()\n",
    "columns"
   ]
  },
  {
   "cell_type": "code",
   "execution_count": 9,
   "metadata": {},
   "outputs": [],
   "source": [
    "track_ids = []\n",
    "types = []\n",
    "traveled_d = []\n",
    "avg_speeds = []\n",
    "trajectories = []\n",
    "\n",
    "for r in range(len(data)): \n",
    "    row = data.iloc[r,:][0].split(\";\")\n",
    "    row_p1 = row[:4]\n",
    "    row_p2 = row[4:]\n",
    "    trajectory = ','.join(row_p2)\n",
    "    \n",
    "    track_ids.append(row_p1[0])\n",
    "    types.append(row_p1[1])\n",
    "    traveled_d.append(row_p1[2])\n",
    "    avg_speeds.append(row_p1[3])\n",
    "    trajectories.append(trajectory[1:])"
   ]
  },
  {
   "cell_type": "code",
   "execution_count": 10,
   "metadata": {},
   "outputs": [],
   "source": [
    "data_dict = {columns[0]:track_ids, columns[1]:types, columns[2]:traveled_d, columns[3]:avg_speeds, columns[4]:trajectories}"
   ]
  },
  {
   "cell_type": "code",
   "execution_count": null,
   "metadata": {},
   "outputs": [],
   "source": []
  }
 ],
 "metadata": {
  "kernelspec": {
   "display_name": "Python 3.8.13 ('py38')",
   "language": "python",
   "name": "python3"
  },
  "language_info": {
   "codemirror_mode": {
    "name": "ipython",
    "version": 3
   },
   "file_extension": ".py",
   "mimetype": "text/x-python",
   "name": "python",
   "nbconvert_exporter": "python",
   "pygments_lexer": "ipython3",
   "version": "3.8.13"
  },
  "orig_nbformat": 4,
  "vscode": {
   "interpreter": {
    "hash": "564a3f4a47946b61fadfbd8b0dd08da8476704ebae5691312144d394d4ce94ac"
   }
  }
 },
 "nbformat": 4,
 "nbformat_minor": 2
}
