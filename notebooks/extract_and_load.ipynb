{
 "cells": [
  {
   "cell_type": "code",
   "execution_count": 6,
   "metadata": {},
   "outputs": [],
   "source": [
    "import sqlite3\n",
    "from sqlite3 import Error\n",
    "import pandas as pd"
   ]
  },
  {
   "cell_type": "code",
   "execution_count": 2,
   "metadata": {},
   "outputs": [],
   "source": [
    "def create_connection(path):\n",
    "    connection = None\n",
    "    try:\n",
    "        connection = sqlite3.connect(path)\n",
    "        print(\"Connection to SQLite DB successful\")\n",
    "    except Error as e:\n",
    "        print(f\"The error '{e}' occurred\")\n",
    "\n",
    "    return connection\n",
    "\n",
    "def get_cursor(connection):\n",
    "    try:\n",
    "        cursor = connection.cursor()\n",
    "        print(\"cursor creation successful\")\n",
    "    except Error as e:\n",
    "        print(f\"the error {e} occurred\")\n",
    "    \n",
    "    return cursor\n",
    "\n",
    "def create_table(cursor, script_path):\n",
    "    try:\n",
    "        sql_file = open(script_path)\n",
    "        sql_as_string = sql_file.read()\n",
    "        cursor.executescript(sql_as_string)\n",
    "        print(\"table successfully created\")\n",
    "    except Error as e:\n",
    "        print(f\"the error {e} occurred\")\n",
    "\n",
    "        \n",
    "def df_to_sql(df, connection, table, if_exists):\n",
    "    try:\n",
    "        df.to_sql(name=table, con=connection, if_exists=if_exists, index = False)\n",
    "    except Error as e:\n",
    "        print(f\"the error {e} occurred\")\n",
    "\n",
    "\n",
    "def delete_table(cursor, table):\n",
    "    try:\n",
    "        cursor.execute(f\"DROP TABLE {table}\")\n",
    "        print(\"Table dropped... \")\n",
    "    except:\n",
    "        print(f\"the error {e} occurred\")\n",
    "\n",
    "def close_connection(connection):\n",
    "    try:\n",
    "        connection.commit()\n",
    "        connection.close()\n",
    "        print(\"successfully closed\")\n",
    "    except Error as e:\n",
    "        print(f\"the error {e} occurred\")\n",
    "\n",
    "def load_content(cursor, table, limit):\n",
    "    try:\n",
    "        cursor.execute(f'''  \n",
    "        SELECT * FROM {table} LIMIT {limit}\n",
    "                ''')\n",
    "        for row in cursor.fetchall():\n",
    "            print (row)\n",
    "\n",
    "    except Error as e:\n",
    "        print(f\"the error {e} occurred\")\n"
   ]
  },
  {
   "cell_type": "code",
   "execution_count": 18,
   "metadata": {},
   "outputs": [
    {
     "name": "stdout",
     "output_type": "stream",
     "text": [
      "Connection to SQLite DB successful\n"
     ]
    }
   ],
   "source": [
    "connection = create_connection(\"C:\\\\10\\week11\\ELT_Pipeline_Project\\warehouse\\warehouse.db\")"
   ]
  },
  {
   "cell_type": "code",
   "execution_count": 19,
   "metadata": {},
   "outputs": [
    {
     "name": "stdout",
     "output_type": "stream",
     "text": [
      "cursor creation successful\n"
     ]
    }
   ],
   "source": [
    "cursor = get_cursor(connection)"
   ]
  },
  {
   "cell_type": "code",
   "execution_count": 19,
   "metadata": {},
   "outputs": [
    {
     "name": "stdout",
     "output_type": "stream",
     "text": [
      "  product_name  price\n",
      "0     Computer    900\n",
      "1       Tablet    300\n",
      "2      Monitor    450\n",
      "3      Printer    150\n"
     ]
    }
   ],
   "source": [
    "import pandas as pd\n",
    "\n",
    "data = {'product_name': ['Computer','Tablet','Monitor','Printer'],\n",
    "        'price': [900,300,450,150]\n",
    "        }\n",
    "\n",
    "df = pd.DataFrame(data, columns= ['product_name','price'])\n",
    "print (df)"
   ]
  },
  {
   "cell_type": "code",
   "execution_count": 22,
   "metadata": {},
   "outputs": [
    {
     "name": "stdout",
     "output_type": "stream",
     "text": [
      "table successfully created\n"
     ]
    }
   ],
   "source": [
    "create_table(cursor, \"../scripts/sql/sample.sql\")"
   ]
  },
  {
   "cell_type": "code",
   "execution_count": 28,
   "metadata": {},
   "outputs": [],
   "source": [
    "df_to_sql(df, connection, \"products\", \"append\")"
   ]
  },
  {
   "cell_type": "code",
   "execution_count": 31,
   "metadata": {},
   "outputs": [
    {
     "name": "stdout",
     "output_type": "stream",
     "text": [
      "('Computer', 900)\n",
      "('Tablet', 300)\n"
     ]
    }
   ],
   "source": [
    "load_content(cursor, \"products\", 2)"
   ]
  },
  {
   "cell_type": "code",
   "execution_count": 7,
   "metadata": {},
   "outputs": [],
   "source": [
    "data = pd.read_csv(\"../data/sample.csv\")"
   ]
  },
  {
   "cell_type": "code",
   "execution_count": 8,
   "metadata": {},
   "outputs": [
    {
     "data": {
      "text/html": [
       "<div>\n",
       "<style scoped>\n",
       "    .dataframe tbody tr th:only-of-type {\n",
       "        vertical-align: middle;\n",
       "    }\n",
       "\n",
       "    .dataframe tbody tr th {\n",
       "        vertical-align: top;\n",
       "    }\n",
       "\n",
       "    .dataframe thead th {\n",
       "        text-align: right;\n",
       "    }\n",
       "</style>\n",
       "<table border=\"1\" class=\"dataframe\">\n",
       "  <thead>\n",
       "    <tr style=\"text-align: right;\">\n",
       "      <th></th>\n",
       "      <th>track_id; type; traveled_d; avg_speed; lat; lon; speed; lon_acc; lat_acc; time</th>\n",
       "    </tr>\n",
       "  </thead>\n",
       "  <tbody>\n",
       "    <tr>\n",
       "      <th>0</th>\n",
       "      <td>1; Car; 48.85; 9.770344; 37.977391; 23.737688;...</td>\n",
       "    </tr>\n",
       "    <tr>\n",
       "      <th>1</th>\n",
       "      <td>2; Motorcycle; 98.09; 19.839417; 37.977642; 23...</td>\n",
       "    </tr>\n",
       "    <tr>\n",
       "      <th>2</th>\n",
       "      <td>3; Motorcycle; 63.80; 18.228752; 37.977997; 23...</td>\n",
       "    </tr>\n",
       "    <tr>\n",
       "      <th>3</th>\n",
       "      <td>4; Motorcycle; 145.72; 26.229014; 37.978135; 2...</td>\n",
       "    </tr>\n",
       "    <tr>\n",
       "      <th>4</th>\n",
       "      <td>5; Motorcycle; 138.01; 24.841425; 37.978134; 2...</td>\n",
       "    </tr>\n",
       "  </tbody>\n",
       "</table>\n",
       "</div>"
      ],
      "text/plain": [
       "  track_id; type; traveled_d; avg_speed; lat; lon; speed; lon_acc; lat_acc; time\n",
       "0  1; Car; 48.85; 9.770344; 37.977391; 23.737688;...                            \n",
       "1  2; Motorcycle; 98.09; 19.839417; 37.977642; 23...                            \n",
       "2  3; Motorcycle; 63.80; 18.228752; 37.977997; 23...                            \n",
       "3  4; Motorcycle; 145.72; 26.229014; 37.978135; 2...                            \n",
       "4  5; Motorcycle; 138.01; 24.841425; 37.978134; 2...                            "
      ]
     },
     "execution_count": 8,
     "metadata": {},
     "output_type": "execute_result"
    }
   ],
   "source": [
    "data.head()"
   ]
  },
  {
   "cell_type": "code",
   "execution_count": 9,
   "metadata": {},
   "outputs": [
    {
     "data": {
      "text/plain": [
       "['track_id', 'types', 'traveled_d', 'avg_speed', 'trajectory']"
      ]
     },
     "execution_count": 9,
     "metadata": {},
     "output_type": "execute_result"
    }
   ],
   "source": [
    "columns = data.columns[0].split(\";\")[:4]\n",
    "columns.append(\"trajectory\")\n",
    "columns[1] = \"types\"\n",
    "for i in range(len(columns)):\n",
    "    columns[i] = columns[i].strip()\n",
    "columns"
   ]
  },
  {
   "cell_type": "code",
   "execution_count": 10,
   "metadata": {},
   "outputs": [],
   "source": [
    "\n",
    "track_ids = []\n",
    "types = []\n",
    "traveled_d = []\n",
    "avg_speeds = []\n",
    "trajectories = []\n",
    "\n",
    "for r in range(len(data)): \n",
    "    row = data.iloc[r,:][0].split(\";\")\n",
    "    row_p1 = row[:4]\n",
    "    row_p2 = row[4:]\n",
    "    trajectory = ','.join(row_p2)\n",
    "    \n",
    "    track_ids.append(row_p1[0])\n",
    "    types.append(row_p1[1])\n",
    "    traveled_d.append(row_p1[2])\n",
    "    avg_speeds.append(row_p1[3])\n",
    "    trajectories.append(trajectory[1:])\n"
   ]
  },
  {
   "cell_type": "code",
   "execution_count": 11,
   "metadata": {},
   "outputs": [],
   "source": [
    "data_dict = {columns[0]:track_ids, columns[1]:types, columns[2]:traveled_d, columns[3]:avg_speeds, columns[4]:trajectories}"
   ]
  },
  {
   "cell_type": "code",
   "execution_count": 12,
   "metadata": {},
   "outputs": [
    {
     "data": {
      "text/html": [
       "<div>\n",
       "<style scoped>\n",
       "    .dataframe tbody tr th:only-of-type {\n",
       "        vertical-align: middle;\n",
       "    }\n",
       "\n",
       "    .dataframe tbody tr th {\n",
       "        vertical-align: top;\n",
       "    }\n",
       "\n",
       "    .dataframe thead th {\n",
       "        text-align: right;\n",
       "    }\n",
       "</style>\n",
       "<table border=\"1\" class=\"dataframe\">\n",
       "  <thead>\n",
       "    <tr style=\"text-align: right;\">\n",
       "      <th></th>\n",
       "      <th>track_id</th>\n",
       "      <th>types</th>\n",
       "      <th>traveled_d</th>\n",
       "      <th>avg_speed</th>\n",
       "      <th>trajectory</th>\n",
       "    </tr>\n",
       "  </thead>\n",
       "  <tbody>\n",
       "    <tr>\n",
       "      <th>0</th>\n",
       "      <td>1</td>\n",
       "      <td>Car</td>\n",
       "      <td>48.85</td>\n",
       "      <td>9.770344</td>\n",
       "      <td>37.977391, 23.737688, 4.9178, 0.0518, -0.0299,...</td>\n",
       "    </tr>\n",
       "    <tr>\n",
       "      <th>1</th>\n",
       "      <td>2</td>\n",
       "      <td>Motorcycle</td>\n",
       "      <td>98.09</td>\n",
       "      <td>19.839417</td>\n",
       "      <td>37.977642, 23.737400, 16.9759, -0.0361, -0.022...</td>\n",
       "    </tr>\n",
       "    <tr>\n",
       "      <th>2</th>\n",
       "      <td>3</td>\n",
       "      <td>Motorcycle</td>\n",
       "      <td>63.80</td>\n",
       "      <td>18.228752</td>\n",
       "      <td>37.977997, 23.737264, 20.1906, -0.0795, -0.339...</td>\n",
       "    </tr>\n",
       "    <tr>\n",
       "      <th>3</th>\n",
       "      <td>4</td>\n",
       "      <td>Motorcycle</td>\n",
       "      <td>145.72</td>\n",
       "      <td>26.229014</td>\n",
       "      <td>37.978135, 23.737072, 2.7555, -0.0302, 0.0948,...</td>\n",
       "    </tr>\n",
       "    <tr>\n",
       "      <th>4</th>\n",
       "      <td>5</td>\n",
       "      <td>Motorcycle</td>\n",
       "      <td>138.01</td>\n",
       "      <td>24.841425</td>\n",
       "      <td>37.978134, 23.737103, 0.0000, 0.0000, 0.0000, ...</td>\n",
       "    </tr>\n",
       "  </tbody>\n",
       "</table>\n",
       "</div>"
      ],
      "text/plain": [
       "  track_id        types traveled_d   avg_speed  \\\n",
       "0        1          Car      48.85    9.770344   \n",
       "1        2   Motorcycle      98.09   19.839417   \n",
       "2        3   Motorcycle      63.80   18.228752   \n",
       "3        4   Motorcycle     145.72   26.229014   \n",
       "4        5   Motorcycle     138.01   24.841425   \n",
       "\n",
       "                                          trajectory  \n",
       "0  37.977391, 23.737688, 4.9178, 0.0518, -0.0299,...  \n",
       "1  37.977642, 23.737400, 16.9759, -0.0361, -0.022...  \n",
       "2  37.977997, 23.737264, 20.1906, -0.0795, -0.339...  \n",
       "3  37.978135, 23.737072, 2.7555, -0.0302, 0.0948,...  \n",
       "4  37.978134, 23.737103, 0.0000, 0.0000, 0.0000, ...  "
      ]
     },
     "execution_count": 12,
     "metadata": {},
     "output_type": "execute_result"
    }
   ],
   "source": [
    "new_df = pd.DataFrame(data_dict)\n",
    "new_df.head()"
   ]
  },
  {
   "cell_type": "code",
   "execution_count": 20,
   "metadata": {},
   "outputs": [
    {
     "name": "stdout",
     "output_type": "stream",
     "text": [
      "table successfully created\n"
     ]
    }
   ],
   "source": [
    "create_table(cursor, \"../scripts/sql/source_table.sql\")"
   ]
  },
  {
   "cell_type": "code",
   "execution_count": 101,
   "metadata": {},
   "outputs": [
    {
     "name": "stdout",
     "output_type": "stream",
     "text": [
      "Table dropped... \n"
     ]
    }
   ],
   "source": [
    "delete_table(cursor, \"source\")"
   ]
  },
  {
   "cell_type": "code",
   "execution_count": 21,
   "metadata": {},
   "outputs": [],
   "source": [
    "df_to_sql(new_df, connection, \"source\", \"append\")"
   ]
  },
  {
   "cell_type": "code",
   "execution_count": 22,
   "metadata": {},
   "outputs": [
    {
     "name": "stdout",
     "output_type": "stream",
     "text": [
      "successfully closed\n"
     ]
    }
   ],
   "source": [
    "close_connection(connection)"
   ]
  },
  {
   "cell_type": "code",
   "execution_count": null,
   "metadata": {},
   "outputs": [],
   "source": []
  }
 ],
 "metadata": {
  "kernelspec": {
   "display_name": "Python 3.8.13 ('py38')",
   "language": "python",
   "name": "python3"
  },
  "language_info": {
   "codemirror_mode": {
    "name": "ipython",
    "version": 3
   },
   "file_extension": ".py",
   "mimetype": "text/x-python",
   "name": "python",
   "nbconvert_exporter": "python",
   "pygments_lexer": "ipython3",
   "version": "3.8.13"
  },
  "orig_nbformat": 4,
  "vscode": {
   "interpreter": {
    "hash": "564a3f4a47946b61fadfbd8b0dd08da8476704ebae5691312144d394d4ce94ac"
   }
  }
 },
 "nbformat": 4,
 "nbformat_minor": 2
}
