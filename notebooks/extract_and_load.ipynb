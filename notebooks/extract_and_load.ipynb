{
 "cells": [
  {
   "cell_type": "markdown",
   "metadata": {},
   "source": [
    "# Extracting and Loading the CSV"
   ]
  },
  {
   "cell_type": "code",
   "execution_count": 1,
   "metadata": {},
   "outputs": [],
   "source": [
    "# importing libraries\n",
    "\n",
    "import os\n",
    "import sys\n",
    "import pandas as pd\n",
    "import psycopg2\n",
    "import pandas as pd"
   ]
  },
  {
   "cell_type": "code",
   "execution_count": 2,
   "metadata": {},
   "outputs": [],
   "source": [
    "# loading scripts\n",
    "\n",
    "sys.path.append(os.path.abspath(\"../scripts/python/\"))\n",
    "from Extractor import Extractor\n",
    "from Loader import Loader\n",
    "\n",
    "extractor = Extractor()\n",
    "loader = Loader()"
   ]
  },
  {
   "cell_type": "markdown",
   "metadata": {},
   "source": [
    "## Extract Data"
   ]
  },
  {
   "cell_type": "code",
   "execution_count": 3,
   "metadata": {},
   "outputs": [
    {
     "data": {
      "text/html": [
       "<div>\n",
       "<style scoped>\n",
       "    .dataframe tbody tr th:only-of-type {\n",
       "        vertical-align: middle;\n",
       "    }\n",
       "\n",
       "    .dataframe tbody tr th {\n",
       "        vertical-align: top;\n",
       "    }\n",
       "\n",
       "    .dataframe thead th {\n",
       "        text-align: right;\n",
       "    }\n",
       "</style>\n",
       "<table border=\"1\" class=\"dataframe\">\n",
       "  <thead>\n",
       "    <tr style=\"text-align: right;\">\n",
       "      <th></th>\n",
       "      <th>track_id; type; traveled_d; avg_speed; lat; lon; speed; lon_acc; lat_acc; time</th>\n",
       "    </tr>\n",
       "  </thead>\n",
       "  <tbody>\n",
       "    <tr>\n",
       "      <th>0</th>\n",
       "      <td>1; Car; 48.85; 9.770344; 37.977391; 23.737688;...</td>\n",
       "    </tr>\n",
       "    <tr>\n",
       "      <th>1</th>\n",
       "      <td>2; Motorcycle; 98.09; 19.839417; 37.977642; 23...</td>\n",
       "    </tr>\n",
       "    <tr>\n",
       "      <th>2</th>\n",
       "      <td>3; Motorcycle; 63.80; 18.228752; 37.977997; 23...</td>\n",
       "    </tr>\n",
       "    <tr>\n",
       "      <th>3</th>\n",
       "      <td>4; Motorcycle; 145.72; 26.229014; 37.978135; 2...</td>\n",
       "    </tr>\n",
       "    <tr>\n",
       "      <th>4</th>\n",
       "      <td>5; Motorcycle; 138.01; 24.841425; 37.978134; 2...</td>\n",
       "    </tr>\n",
       "  </tbody>\n",
       "</table>\n",
       "</div>"
      ],
      "text/plain": [
       "  track_id; type; traveled_d; avg_speed; lat; lon; speed; lon_acc; lat_acc; time\n",
       "0  1; Car; 48.85; 9.770344; 37.977391; 23.737688;...                            \n",
       "1  2; Motorcycle; 98.09; 19.839417; 37.977642; 23...                            \n",
       "2  3; Motorcycle; 63.80; 18.228752; 37.977997; 23...                            \n",
       "3  4; Motorcycle; 145.72; 26.229014; 37.978135; 2...                            \n",
       "4  5; Motorcycle; 138.01; 24.841425; 37.978134; 2...                            "
      ]
     },
     "execution_count": 3,
     "metadata": {},
     "output_type": "execute_result"
    }
   ],
   "source": [
    "# load csv into a dataframe\n",
    "data = extractor.load_csv(\"../data/sample.csv\")\n",
    "data.head()"
   ]
  },
  {
   "cell_type": "code",
   "execution_count": 4,
   "metadata": {},
   "outputs": [
    {
     "name": "stdout",
     "output_type": "stream",
     "text": [
      "dataframe successfully created\n"
     ]
    },
    {
     "data": {
      "text/html": [
       "<div>\n",
       "<style scoped>\n",
       "    .dataframe tbody tr th:only-of-type {\n",
       "        vertical-align: middle;\n",
       "    }\n",
       "\n",
       "    .dataframe tbody tr th {\n",
       "        vertical-align: top;\n",
       "    }\n",
       "\n",
       "    .dataframe thead th {\n",
       "        text-align: right;\n",
       "    }\n",
       "</style>\n",
       "<table border=\"1\" class=\"dataframe\">\n",
       "  <thead>\n",
       "    <tr style=\"text-align: right;\">\n",
       "      <th></th>\n",
       "      <th>track_id</th>\n",
       "      <th>types</th>\n",
       "      <th>traveled_d</th>\n",
       "      <th>avg_speed</th>\n",
       "      <th>trajectory</th>\n",
       "    </tr>\n",
       "  </thead>\n",
       "  <tbody>\n",
       "    <tr>\n",
       "      <th>0</th>\n",
       "      <td>1</td>\n",
       "      <td>Car</td>\n",
       "      <td>48.85</td>\n",
       "      <td>9.770344</td>\n",
       "      <td>37.977391, 23.737688, 4.9178, 0.0518, -0.0299,...</td>\n",
       "    </tr>\n",
       "    <tr>\n",
       "      <th>1</th>\n",
       "      <td>2</td>\n",
       "      <td>Motorcycle</td>\n",
       "      <td>98.09</td>\n",
       "      <td>19.839417</td>\n",
       "      <td>37.977642, 23.737400, 16.9759, -0.0361, -0.022...</td>\n",
       "    </tr>\n",
       "    <tr>\n",
       "      <th>2</th>\n",
       "      <td>3</td>\n",
       "      <td>Motorcycle</td>\n",
       "      <td>63.80</td>\n",
       "      <td>18.228752</td>\n",
       "      <td>37.977997, 23.737264, 20.1906, -0.0795, -0.339...</td>\n",
       "    </tr>\n",
       "    <tr>\n",
       "      <th>3</th>\n",
       "      <td>4</td>\n",
       "      <td>Motorcycle</td>\n",
       "      <td>145.72</td>\n",
       "      <td>26.229014</td>\n",
       "      <td>37.978135, 23.737072, 2.7555, -0.0302, 0.0948,...</td>\n",
       "    </tr>\n",
       "    <tr>\n",
       "      <th>4</th>\n",
       "      <td>5</td>\n",
       "      <td>Motorcycle</td>\n",
       "      <td>138.01</td>\n",
       "      <td>24.841425</td>\n",
       "      <td>37.978134, 23.737103, 0.0000, 0.0000, 0.0000, ...</td>\n",
       "    </tr>\n",
       "  </tbody>\n",
       "</table>\n",
       "</div>"
      ],
      "text/plain": [
       "  track_id        types traveled_d   avg_speed  \\\n",
       "0        1          Car      48.85    9.770344   \n",
       "1        2   Motorcycle      98.09   19.839417   \n",
       "2        3   Motorcycle      63.80   18.228752   \n",
       "3        4   Motorcycle     145.72   26.229014   \n",
       "4        5   Motorcycle     138.01   24.841425   \n",
       "\n",
       "                                          trajectory  \n",
       "0  37.977391, 23.737688, 4.9178, 0.0518, -0.0299,...  \n",
       "1  37.977642, 23.737400, 16.9759, -0.0361, -0.022...  \n",
       "2  37.977997, 23.737264, 20.1906, -0.0795, -0.339...  \n",
       "3  37.978135, 23.737072, 2.7555, -0.0302, 0.0948,...  \n",
       "4  37.978134, 23.737103, 0.0000, 0.0000, 0.0000, ...  "
      ]
     },
     "execution_count": 4,
     "metadata": {},
     "output_type": "execute_result"
    }
   ],
   "source": [
    "# restructure data frame.\n",
    "new_df = extractor.restructure(data)\n",
    "new_df.head()"
   ]
  },
  {
   "cell_type": "markdown",
   "metadata": {},
   "source": [
    "## Load Into Warehouse"
   ]
  },
  {
   "cell_type": "code",
   "execution_count": 5,
   "metadata": {},
   "outputs": [
    {
     "name": "stdout",
     "output_type": "stream",
     "text": [
      "successfully connected\n"
     ]
    }
   ],
   "source": [
    "# create connection with wareouse postgres\n",
    "connection, cursor = loader.connect_to_server(host=\"localhost\", user=\"warehouse\", password=\"warehouse\", dbName=\"warehouse\") #"
   ]
  },
  {
   "cell_type": "code",
   "execution_count": 6,
   "metadata": {},
   "outputs": [
    {
     "name": "stdout",
     "output_type": "stream",
     "text": [
      "successfully connected\n"
     ]
    }
   ],
   "source": [
    "# create connection with mysql warehouse\n",
    "connection2, cursor2 = loader.connect_to_mysql_server(host=\"localhost\", user=\"root\", password=\"mysql\", port=42060, dbName=\"warehouse\") #"
   ]
  },
  {
   "cell_type": "code",
   "execution_count": 7,
   "metadata": {},
   "outputs": [
    {
     "name": "stderr",
     "output_type": "stream",
     "text": [
      "/home/bini/anaconda3/envs/py38/lib/python3.8/site-packages/pandas/io/sql.py:761: UserWarning: pandas only support SQLAlchemy connectable(engine/connection) ordatabase string URI or sqlite3 DBAPI2 connectionother DBAPI2 objects are not tested, please consider using SQLAlchemy\n",
      "  warnings.warn(\n"
     ]
    },
    {
     "name": "stdout",
     "output_type": "stream",
     "text": [
      "error: 'CMySQLCursorBuffered' object has no attribute 'cursor'\n"
     ]
    },
    {
     "ename": "AttributeError",
     "evalue": "'NoneType' object has no attribute 'head'",
     "output_type": "error",
     "traceback": [
      "\u001b[0;31m---------------------------------------------------------------------------\u001b[0m",
      "\u001b[0;31mAttributeError\u001b[0m                            Traceback (most recent call last)",
      "\u001b[1;32m/home/bini/10_acad/week_12/ELT_Pipeline_Project_2/notebooks/extract_and_load.ipynb Cell 10\u001b[0m in \u001b[0;36m<cell line: 4>\u001b[0;34m()\u001b[0m\n\u001b[1;32m      <a href='vscode-notebook-cell:/home/bini/10_acad/week_12/ELT_Pipeline_Project_2/notebooks/extract_and_load.ipynb#ch0000013?line=0'>1</a>\u001b[0m \u001b[39m# load rows\u001b[39;00m\n\u001b[1;32m      <a href='vscode-notebook-cell:/home/bini/10_acad/week_12/ELT_Pipeline_Project_2/notebooks/extract_and_load.ipynb#ch0000013?line=2'>3</a>\u001b[0m migration \u001b[39m=\u001b[39m loader\u001b[39m.\u001b[39mload_from_source(cursor2, \u001b[39m\"\u001b[39m\u001b[39msource\u001b[39m\u001b[39m\"\u001b[39m, \u001b[39m10\u001b[39m, \u001b[39m\"\u001b[39m\u001b[39m../data/test.csv\u001b[39m\u001b[39m\"\u001b[39m)\n\u001b[0;32m----> <a href='vscode-notebook-cell:/home/bini/10_acad/week_12/ELT_Pipeline_Project_2/notebooks/extract_and_load.ipynb#ch0000013?line=3'>4</a>\u001b[0m migration\u001b[39m.\u001b[39;49mhead(\u001b[39m5\u001b[39m)\n",
      "\u001b[0;31mAttributeError\u001b[0m: 'NoneType' object has no attribute 'head'"
     ]
    }
   ],
   "source": [
    "# load rows\n",
    "\n",
    "migration = loader.load_from_source(cursor2, \"source\", 10, \"../data/test.csv\")\n",
    "migration.head(5)"
   ]
  },
  {
   "cell_type": "code",
   "execution_count": 9,
   "metadata": {},
   "outputs": [
    {
     "name": "stdout",
     "output_type": "stream",
     "text": [
      "table created successfully\n",
      "table created successfully\n"
     ]
    }
   ],
   "source": [
    "# create table if it doesn't exist.\n",
    "loader.create_table(cursor, \"../scripts/sql/create_source_table.sql\", \"warehouse\")"
   ]
  },
  {
   "cell_type": "code",
   "execution_count": 12,
   "metadata": {},
   "outputs": [
    {
     "name": "stdout",
     "output_type": "stream",
     "text": [
      "Data inserted successfully\n"
     ]
    }
   ],
   "source": [
    "# migrate table first.\n",
    "loader.insert_into_table(cursor, connection, \"warehouse\", migration, \"source\")"
   ]
  },
  {
   "cell_type": "code",
   "execution_count": 13,
   "metadata": {},
   "outputs": [
    {
     "name": "stdout",
     "output_type": "stream",
     "text": [
      "Error:  duplicate key value violates unique constraint \"source_pkey\"\n",
      "DETAIL:  Key (track_id)=(1) already exists.\n",
      "\n",
      "Error:  duplicate key value violates unique constraint \"source_pkey\"\n",
      "DETAIL:  Key (track_id)=(2) already exists.\n",
      "\n",
      "Error:  duplicate key value violates unique constraint \"source_pkey\"\n",
      "DETAIL:  Key (track_id)=(3) already exists.\n",
      "\n",
      "Error:  duplicate key value violates unique constraint \"source_pkey\"\n",
      "DETAIL:  Key (track_id)=(4) already exists.\n",
      "\n",
      "Error:  duplicate key value violates unique constraint \"source_pkey\"\n",
      "DETAIL:  Key (track_id)=(5) already exists.\n",
      "\n",
      "Error:  duplicate key value violates unique constraint \"source_pkey\"\n",
      "DETAIL:  Key (track_id)=(6) already exists.\n",
      "\n",
      "Error:  duplicate key value violates unique constraint \"source_pkey\"\n",
      "DETAIL:  Key (track_id)=(7) already exists.\n",
      "\n",
      "Error:  duplicate key value violates unique constraint \"source_pkey\"\n",
      "DETAIL:  Key (track_id)=(8) already exists.\n",
      "\n",
      "Error:  duplicate key value violates unique constraint \"source_pkey\"\n",
      "DETAIL:  Key (track_id)=(9) already exists.\n",
      "\n",
      "Error:  duplicate key value violates unique constraint \"source_pkey\"\n",
      "DETAIL:  Key (track_id)=(10) already exists.\n",
      "\n",
      "Data inserted successfully\n"
     ]
    }
   ],
   "source": [
    "loader.insert_into_table(cursor, connection, \"warehouse\", new_df, \"source\")"
   ]
  },
  {
   "cell_type": "code",
   "execution_count": 12,
   "metadata": {},
   "outputs": [
    {
     "name": "stdout",
     "output_type": "stream",
     "text": [
      "connection closed and transaction committed\n"
     ]
    }
   ],
   "source": [
    "loader.close_connection(cursor=cursor, connection=connection)"
   ]
  },
  {
   "cell_type": "code",
   "execution_count": null,
   "metadata": {},
   "outputs": [],
   "source": []
  }
 ],
 "metadata": {
  "kernelspec": {
   "display_name": "Python 3.8.13 ('py38')",
   "language": "python",
   "name": "python3"
  },
  "language_info": {
   "codemirror_mode": {
    "name": "ipython",
    "version": 3
   },
   "file_extension": ".py",
   "mimetype": "text/x-python",
   "name": "python",
   "nbconvert_exporter": "python",
   "pygments_lexer": "ipython3",
   "version": "3.8.13"
  },
  "orig_nbformat": 4,
  "vscode": {
   "interpreter": {
    "hash": "c278458f781ee49109496bb3aecd21574a85b9eae5b26d416ec5279b2a94a8a9"
   }
  }
 },
 "nbformat": 4,
 "nbformat_minor": 2
}
