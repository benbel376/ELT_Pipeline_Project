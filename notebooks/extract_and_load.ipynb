{
 "cells": [
  {
   "cell_type": "code",
   "execution_count": 1,
   "metadata": {},
   "outputs": [],
   "source": [
    "import sqlite3\n",
    "from sqlite3 import Error"
   ]
  },
  {
   "cell_type": "code",
   "execution_count": 8,
   "metadata": {},
   "outputs": [],
   "source": [
    "def create_connection(path):\n",
    "    connection = None\n",
    "    try:\n",
    "        connection = sqlite3.connect(path)\n",
    "        print(\"Connection to SQLite DB successful\")\n",
    "    except Error as e:\n",
    "        print(f\"The error '{e}' occurred\")\n",
    "\n",
    "    return connection\n",
    "\n",
    "def get_cursor(connection):\n",
    "    try:\n",
    "        cursor = connection.cursor()\n",
    "        print(\"cursor creation successful\")\n",
    "    except Error as e:\n",
    "        print(f\"the error {e} occurred\")\n",
    "    \n",
    "    return cursor\n",
    "\n",
    "def create_table(script_path):\n",
    "    try:\n",
    "        sql_file = open(script_path)\n",
    "        sql_as_string = sql_file.read()\n",
    "        cursor.executescript(sql_as_string)\n",
    "        print(\"table successfully created\")\n",
    "    except Error as e:\n",
    "        print(f\"the error {e} occurred\")"
   ]
  },
  {
   "cell_type": "code",
   "execution_count": 9,
   "metadata": {},
   "outputs": [
    {
     "name": "stdout",
     "output_type": "stream",
     "text": [
      "Connection to SQLite DB successful\n"
     ]
    }
   ],
   "source": [
    "connection = create_connection(\"C:\\\\10\\week11\\sample.db\")"
   ]
  },
  {
   "cell_type": "code",
   "execution_count": 10,
   "metadata": {},
   "outputs": [
    {
     "name": "stdout",
     "output_type": "stream",
     "text": [
      "cursor creation successful\n"
     ]
    }
   ],
   "source": [
    "cursor = get_cursor(connection)"
   ]
  },
  {
   "cell_type": "code",
   "execution_count": 13,
   "metadata": {},
   "outputs": [
    {
     "ename": "IntegrityError",
     "evalue": "UNIQUE constraint failed: airports.iata",
     "output_type": "error",
     "traceback": [
      "\u001b[1;31m---------------------------------------------------------------------------\u001b[0m",
      "\u001b[1;31mIntegrityError\u001b[0m                            Traceback (most recent call last)",
      "\u001b[1;32mc:\\10\\week11\\ELT_Pipeline_Project\\notebooks\\extract_and_load.ipynb Cell 5\u001b[0m in \u001b[0;36m<cell line: 3>\u001b[1;34m()\u001b[0m\n\u001b[0;32m      <a href='vscode-notebook-cell:/c%3A/10/week11/ELT_Pipeline_Project/notebooks/extract_and_load.ipynb#ch0000005?line=0'>1</a>\u001b[0m sql_file \u001b[39m=\u001b[39m \u001b[39mopen\u001b[39m(\u001b[39m\"\u001b[39m\u001b[39m../scripts/sql/sample.sql\u001b[39m\u001b[39m\"\u001b[39m)\n\u001b[0;32m      <a href='vscode-notebook-cell:/c%3A/10/week11/ELT_Pipeline_Project/notebooks/extract_and_load.ipynb#ch0000005?line=1'>2</a>\u001b[0m sql_as_string \u001b[39m=\u001b[39m sql_file\u001b[39m.\u001b[39mread()\n\u001b[1;32m----> <a href='vscode-notebook-cell:/c%3A/10/week11/ELT_Pipeline_Project/notebooks/extract_and_load.ipynb#ch0000005?line=2'>3</a>\u001b[0m cursor\u001b[39m.\u001b[39;49mexecutescript(sql_as_string)\n\u001b[0;32m      <a href='vscode-notebook-cell:/c%3A/10/week11/ELT_Pipeline_Project/notebooks/extract_and_load.ipynb#ch0000005?line=4'>5</a>\u001b[0m \u001b[39mfor\u001b[39;00m row \u001b[39min\u001b[39;00m cursor\u001b[39m.\u001b[39mexecute(\u001b[39m\"\u001b[39m\u001b[39mSELECT * FROM airports\u001b[39m\u001b[39m\"\u001b[39m):\n\u001b[0;32m      <a href='vscode-notebook-cell:/c%3A/10/week11/ELT_Pipeline_Project/notebooks/extract_and_load.ipynb#ch0000005?line=5'>6</a>\u001b[0m     \u001b[39mprint\u001b[39m(row)\n",
      "\u001b[1;31mIntegrityError\u001b[0m: UNIQUE constraint failed: airports.iata"
     ]
    }
   ],
   "source": []
  },
  {
   "cell_type": "code",
   "execution_count": null,
   "metadata": {},
   "outputs": [],
   "source": []
  }
 ],
 "metadata": {
  "kernelspec": {
   "display_name": "Python 3.8.13 ('py38')",
   "language": "python",
   "name": "python3"
  },
  "language_info": {
   "codemirror_mode": {
    "name": "ipython",
    "version": 3
   },
   "file_extension": ".py",
   "mimetype": "text/x-python",
   "name": "python",
   "nbconvert_exporter": "python",
   "pygments_lexer": "ipython3",
   "version": "3.8.13"
  },
  "orig_nbformat": 4,
  "vscode": {
   "interpreter": {
    "hash": "564a3f4a47946b61fadfbd8b0dd08da8476704ebae5691312144d394d4ce94ac"
   }
  }
 },
 "nbformat": 4,
 "nbformat_minor": 2
}
