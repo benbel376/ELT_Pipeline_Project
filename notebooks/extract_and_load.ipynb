{
 "cells": [
  {
   "cell_type": "code",
   "execution_count": 1,
   "metadata": {},
   "outputs": [],
   "source": [
    "import sqlite3\n",
    "from sqlite3 import Error"
   ]
  },
  {
   "cell_type": "code",
   "execution_count": 30,
   "metadata": {},
   "outputs": [],
   "source": [
    "def create_connection(path):\n",
    "    connection = None\n",
    "    try:\n",
    "        connection = sqlite3.connect(path)\n",
    "        print(\"Connection to SQLite DB successful\")\n",
    "    except Error as e:\n",
    "        print(f\"The error '{e}' occurred\")\n",
    "\n",
    "    return connection\n",
    "\n",
    "def get_cursor(connection):\n",
    "    try:\n",
    "        cursor = connection.cursor()\n",
    "        print(\"cursor creation successful\")\n",
    "    except Error as e:\n",
    "        print(f\"the error {e} occurred\")\n",
    "    \n",
    "    return cursor\n",
    "\n",
    "def create_table(cursor, script_path):\n",
    "    try:\n",
    "        sql_file = open(script_path)\n",
    "        sql_as_string = sql_file.read()\n",
    "        cursor.executescript(sql_as_string)\n",
    "        print(\"table successfully created\")\n",
    "    except Error as e:\n",
    "        print(f\"the error {e} occurred\")\n",
    "\n",
    "        \n",
    "def df_to_sql(df, connection, table, if_exists):\n",
    "    try:\n",
    "        df.to_sql(name=table, con=connection, if_exists=if_exists, index = False)\n",
    "    except Error as e:\n",
    "        print(f\"the error {e} occurred\")\n",
    "\n",
    "\n",
    "def delete_table(cursor, table):\n",
    "    try:\n",
    "        cursor.execute(f\"DROP TABLE {table}\")\n",
    "        print(\"Table dropped... \")\n",
    "    except:\n",
    "        print(f\"the error {e} occurred\")\n",
    "\n",
    "def close_connection(connection):\n",
    "    try:\n",
    "        connection.commit()\n",
    "        connection.close()\n",
    "        print(\"successfully closed\")\n",
    "    except Error as e:\n",
    "        print(f\"the error {e} occurred\")\n",
    "\n",
    "def load_content(cursor, table, limit):\n",
    "    try:\n",
    "        cursor.execute(f'''  \n",
    "        SELECT * FROM {table} LIMIT {limit}\n",
    "                ''')\n",
    "        for row in cursor.fetchall():\n",
    "            print (row)\n",
    "\n",
    "    except Error as e:\n",
    "        print(f\"the error {e} occurred\")\n"
   ]
  },
  {
   "cell_type": "code",
   "execution_count": 9,
   "metadata": {},
   "outputs": [
    {
     "name": "stdout",
     "output_type": "stream",
     "text": [
      "Connection to SQLite DB successful\n"
     ]
    }
   ],
   "source": [
    "connection = create_connection(\"C:\\\\10\\week11\\sample.db\")"
   ]
  },
  {
   "cell_type": "code",
   "execution_count": 10,
   "metadata": {},
   "outputs": [
    {
     "name": "stdout",
     "output_type": "stream",
     "text": [
      "cursor creation successful\n"
     ]
    }
   ],
   "source": [
    "cursor = get_cursor(connection)"
   ]
  },
  {
   "cell_type": "code",
   "execution_count": 16,
   "metadata": {},
   "outputs": [
    {
     "name": "stdout",
     "output_type": "stream",
     "text": [
      "Table dropped... \n"
     ]
    }
   ],
   "source": [
    "delete_table(cursor, \"airports\")"
   ]
  },
  {
   "cell_type": "code",
   "execution_count": 19,
   "metadata": {},
   "outputs": [
    {
     "name": "stdout",
     "output_type": "stream",
     "text": [
      "  product_name  price\n",
      "0     Computer    900\n",
      "1       Tablet    300\n",
      "2      Monitor    450\n",
      "3      Printer    150\n"
     ]
    }
   ],
   "source": [
    "import pandas as pd\n",
    "\n",
    "data = {'product_name': ['Computer','Tablet','Monitor','Printer'],\n",
    "        'price': [900,300,450,150]\n",
    "        }\n",
    "\n",
    "df = pd.DataFrame(data, columns= ['product_name','price'])\n",
    "print (df)"
   ]
  },
  {
   "cell_type": "code",
   "execution_count": 22,
   "metadata": {},
   "outputs": [
    {
     "name": "stdout",
     "output_type": "stream",
     "text": [
      "table successfully created\n"
     ]
    }
   ],
   "source": [
    "create_table(cursor, \"../scripts/sql/sample.sql\")"
   ]
  },
  {
   "cell_type": "code",
   "execution_count": 28,
   "metadata": {},
   "outputs": [],
   "source": [
    "df_to_sql(df, connection, \"products\", \"append\")"
   ]
  },
  {
   "cell_type": "code",
   "execution_count": 31,
   "metadata": {},
   "outputs": [
    {
     "name": "stdout",
     "output_type": "stream",
     "text": [
      "('Computer', 900)\n",
      "('Tablet', 300)\n"
     ]
    }
   ],
   "source": [
    "load_content(cursor, \"products\", 2)"
   ]
  },
  {
   "cell_type": "code",
   "execution_count": null,
   "metadata": {},
   "outputs": [],
   "source": []
  }
 ],
 "metadata": {
  "kernelspec": {
   "display_name": "Python 3.8.13 ('py38')",
   "language": "python",
   "name": "python3"
  },
  "language_info": {
   "codemirror_mode": {
    "name": "ipython",
    "version": 3
   },
   "file_extension": ".py",
   "mimetype": "text/x-python",
   "name": "python",
   "nbconvert_exporter": "python",
   "pygments_lexer": "ipython3",
   "version": "3.8.13"
  },
  "orig_nbformat": 4,
  "vscode": {
   "interpreter": {
    "hash": "564a3f4a47946b61fadfbd8b0dd08da8476704ebae5691312144d394d4ce94ac"
   }
  }
 },
 "nbformat": 4,
 "nbformat_minor": 2
}
